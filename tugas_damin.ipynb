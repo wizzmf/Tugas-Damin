{
  "nbformat": 4,
  "nbformat_minor": 0,
  "metadata": {
    "kernelspec": {
      "display_name": "Python 3",
      "language": "python",
      "name": "python3"
    },
    "language_info": {
      "codemirror_mode": {
        "name": "ipython",
        "version": 3
      },
      "file_extension": ".py",
      "mimetype": "text/x-python",
      "name": "python",
      "nbconvert_exporter": "python",
      "pygments_lexer": "ipython3",
      "version": "3.7.4"
    },
    "colab": {
      "name": "tugas_damin.ipynb",
      "provenance": [],
      "collapsed_sections": []
    }
  },
  "cells": [
    {
      "cell_type": "code",
      "metadata": {
        "id": "wgJ7_jD_W-K9",
        "colab_type": "code",
        "colab": {
          "base_uri": "https://localhost:8080/",
          "height": 324
        },
        "outputId": "2b2abb4a-8076-49f5-c483-0ae842e1af23"
      },
      "source": [
        "## Initialisation\n",
        "\n",
        "import pandas as pd\n",
        "import numpy as np\n",
        "import matplotlib.pyplot as plt\n",
        "%matplotlib inline\n",
        "\n",
        "df = pd.DataFrame({\n",
        "    'x': [2, 55, 80, 0, 24, 38, 41, 55, 77, 19, 16, 3, 79, 66, 49, 41, 46, 23, 21],\n",
        "    'y': [5, 2, 72, 67, 35, 21, 26, 37, 42, 16, 19, 30, 50, 29, 27, 44, 56, 33, 26]\n",
        "})\n",
        "\n",
        "\n",
        "np.random.seed(200)\n",
        "k = 3\n",
        "# centroids[i] = [x, y]\n",
        "centroids = {\n",
        "    i+1: [np.random.randint(0, 80), np.random.randint(0, 80)]\n",
        "    for i in range(k)\n",
        "}\n",
        "    \n",
        "fig = plt.figure(figsize=(5, 5))\n",
        "plt.scatter(df['x'], df['y'], color='k')\n",
        "colmap = {1: 'r', 2: 'g', 3: 'b'}\n",
        "for i in centroids.keys():\n",
        "    plt.scatter(*centroids[i], color=colmap[i])\n",
        "plt.xlim(0, 80)\n",
        "plt.ylim(0, 80)\n",
        "plt.show()"
      ],
      "execution_count": 1,
      "outputs": [
        {
          "output_type": "display_data",
          "data": {
            "image/png": "[encoded data removed]",
            "text/plain": [
              "<Figure size 360x360 with 1 Axes>"
            ]
          },
          "metadata": {
            "tags": []
          }
        }
      ]
    },
    {
      "cell_type": "code",
      "metadata": {
        "id": "Ej-eSVgpW-LB",
        "colab_type": "code",
        "colab": {},
        "outputId": "805bb057-840a-4490-e4eb-5eadedefcf3c"
      },
      "source": [
        "## Assignment Stage\n",
        "\n",
        "def assignment(df, centroids):\n",
        "    for i in centroids.keys():\n",
        "        # sqrt((x1 - x2)^2 - (y1 - y2)^2)\n",
        "        df['distance_from_{}'.format(i)] = (\n",
        "            np.sqrt(\n",
        "                (df['x'] - centroids[i][0]) ** 2\n",
        "                + (df['y'] - centroids[i][1]) ** 2\n",
        "            )\n",
        "        )\n",
        "    centroid_distance_cols = ['distance_from_{}'.format(i) for i in centroids.keys()]\n",
        "    df['closest'] = df.loc[:, centroid_distance_cols].idxmin(axis=1)\n",
        "    df['closest'] = df['closest'].map(lambda x: int(x.lstrip('distance_from_')))\n",
        "    df['color'] = df['closest'].map(lambda x: colmap[x])\n",
        "    return df\n",
        "\n",
        "df = assignment(df, centroids)\n",
        "print(df.head())\n",
        "\n",
        "fig = plt.figure(figsize=(5, 5))\n",
        "plt.scatter(df['x'], df['y'], color=df['color'], alpha=0.5, edgecolor='k')\n",
        "for i in centroids.keys():\n",
        "    plt.scatter(*centroids[i], color=colmap[i])\n",
        "plt.xlim(0, 80)\n",
        "plt.ylim(0, 80)\n",
        "plt.show()"
      ],
      "execution_count": 0,
      "outputs": [
        {
          "output_type": "stream",
          "text": [
            "    x   y  distance_from_1  distance_from_2  distance_from_3  closest color\n",
            "0   6  19        20.223748        66.128662        75.166482        1     r\n",
            "1  10  18        16.124515        62.769419        73.409809        1     r\n",
            "2  14  15        12.041595        60.373835        73.498299        1     r\n",
            "3  60  26        35.440090        17.888544        50.249378        2     g\n",
            "4  16  27        14.866069        54.120237        62.625873        1     r\n"
          ],
          "name": "stdout"
        },
        {
          "output_type": "display_data",
          "data": {
            "image/png": "[encoded data removed]",
            "text/plain": [
              "<Figure size 360x360 with 1 Axes>"
            ]
          },
          "metadata": {
            "tags": [],
            "needs_background": "light"
          }
        }
      ]
    },
    {
      "cell_type": "code",
      "metadata": {
        "id": "qPZwwTAkW-LF",
        "colab_type": "code",
        "colab": {},
        "outputId": "33747f1f-7dd4-4a1a-a8b7-9eedca044f05"
      },
      "source": [
        "## Update Stage\n",
        "\n",
        "import copy\n",
        "\n",
        "old_centroids = copy.deepcopy(centroids)\n",
        "\n",
        "def update(k):\n",
        "    for i in centroids.keys():\n",
        "        centroids[i][0] = np.mean(df[df['closest'] == i]['x'])\n",
        "        centroids[i][1] = np.mean(df[df['closest'] == i]['y'])\n",
        "    return k\n",
        "\n",
        "centroids = update(centroids)\n",
        "    \n",
        "fig = plt.figure(figsize=(5, 5))\n",
        "ax = plt.axes()\n",
        "plt.scatter(df['x'], df['y'], color=df['color'], alpha=0.5, edgecolor='k')\n",
        "for i in centroids.keys():\n",
        "    plt.scatter(*centroids[i], color=colmap[i])\n",
        "plt.xlim(0, 80)\n",
        "plt.ylim(0, 80)\n",
        "for i in old_centroids.keys():\n",
        "    old_x = old_centroids[i][0]\n",
        "    old_y = old_centroids[i][1]\n",
        "    dx = (centroids[i][0] - old_centroids[i][0]) * 0.75\n",
        "    dy = (centroids[i][1] - old_centroids[i][1]) * 0.75\n",
        "    ax.arrow(old_x, old_y, dx, dy, head_width=2, head_length=3, fc=colmap[i], ec=colmap[i])\n",
        "plt.show()"
      ],
      "execution_count": 0,
      "outputs": [
        {
          "output_type": "display_data",
          "data": {
            "image/png": "[encoded data removed]",
            "text/plain": [
              "<Figure size 360x360 with 1 Axes>"
            ]
          },
          "metadata": {
            "tags": [],
            "needs_background": "light"
          }
        }
      ]
    },
    {
      "cell_type": "code",
      "metadata": {
        "id": "fcdi-6-mW-LI",
        "colab_type": "code",
        "colab": {},
        "outputId": "6b581a3d-bede-4ff9-d149-b3a530c9ac83"
      },
      "source": [
        "## Repeat Assigment Stage\n",
        "\n",
        "df = assignment(df, centroids)\n",
        "\n",
        "# Plot results\n",
        "fig = plt.figure(figsize=(5, 5))\n",
        "plt.scatter(df['x'], df['y'], color=df['color'], alpha=0.5, edgecolor='k')\n",
        "for i in centroids.keys():\n",
        "    plt.scatter(*centroids[i], color=colmap[i])\n",
        "plt.xlim(0, 80)\n",
        "plt.ylim(0, 80)\n",
        "plt.show()"
      ],
      "execution_count": 0,
      "outputs": [
        {
          "output_type": "display_data",
          "data": {
            "image/png": "[encoded data removed]",
            "text/plain": [
              "<Figure size 360x360 with 1 Axes>"
            ]
          },
          "metadata": {
            "tags": [],
            "needs_background": "light"
          }
        }
      ]
    },
    {
      "cell_type": "code",
      "metadata": {
        "id": "5tBgAoIPW-LL",
        "colab_type": "code",
        "colab": {},
        "outputId": "1c469f78-e340-42fe-ef59-1a94fa257170"
      },
      "source": [
        "# Continue until all assigned categories don't change any more\n",
        "while True:\n",
        "    closest_centroids = df['closest'].copy(deep=True)\n",
        "    centroids = update(centroids)\n",
        "    df = assignment(df, centroids)\n",
        "    if closest_centroids.equals(df['closest']):\n",
        "        break\n",
        "\n",
        "fig = plt.figure(figsize=(5, 5))\n",
        "plt.scatter(df['x'], df['y'], color=df['color'], alpha=0.5, edgecolor='k')\n",
        "for i in centroids.keys():\n",
        "    plt.scatter(*centroids[i], color=colmap[i])\n",
        "plt.xlim(0, 80)\n",
        "plt.ylim(0, 80)\n",
        "plt.show()"
      ],
      "execution_count": 0,
      "outputs": [
        {
          "output_type": "display_data",
          "data": {
            "image/png": "[encoded data removed]",
            "text/plain": [
              "<Figure size 360x360 with 1 Axes>"
            ]
          },
          "metadata": {
            "tags": [],
            "needs_background": "light"
          }
        }
      ]
    },
    {
      "cell_type": "code",
      "metadata": {
        "id": "wu3R5-QMW-LO",
        "colab_type": "code",
        "colab": {}
      },
      "source": [
        ""
      ],
      "execution_count": 0,
      "outputs": []
    },
    {
      "cell_type": "code",
      "metadata": {
        "id": "HCsEBLRFW-LS",
        "colab_type": "code",
        "colab": {}
      },
      "source": [
        ""
      ],
      "execution_count": 0,
      "outputs": []
    },
    {
      "cell_type": "code",
      "metadata": {
        "id": "Xa9oekW_W-LV",
        "colab_type": "code",
        "colab": {}
      },
      "source": [
        ""
      ],
      "execution_count": 0,
      "outputs": []
    },
    {
      "cell_type": "code",
      "metadata": {
        "id": "gneKy_02W-LY",
        "colab_type": "code",
        "colab": {}
      },
      "source": [
        ""
      ],
      "execution_count": 0,
      "outputs": []
    }
  ]
}